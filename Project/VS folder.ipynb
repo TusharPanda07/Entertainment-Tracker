{
 "cells": [
  {
   "cell_type": "code",
   "execution_count": 10,
   "metadata": {},
   "outputs": [
    {
     "ename": "ModuleNotFoundError",
     "evalue": "No module named 'sklearn'",
     "output_type": "error",
     "traceback": [
      "\u001b[1;31m---------------------------------------------------------------------------\u001b[0m",
      "\u001b[1;31mModuleNotFoundError\u001b[0m                       Traceback (most recent call last)",
      "Cell \u001b[1;32mIn [10], line 11\u001b[0m\n\u001b[0;32m      9\u001b[0m \u001b[38;5;28;01mfrom\u001b[39;00m \u001b[38;5;21;01mmatplotlib\u001b[39;00m \u001b[38;5;28;01mimport\u001b[39;00m pyplot  \u001b[38;5;28;01mas\u001b[39;00m plt\n\u001b[0;32m     10\u001b[0m \u001b[38;5;28;01mimport\u001b[39;00m \u001b[38;5;21;01mnumpy\u001b[39;00m \u001b[38;5;28;01mas\u001b[39;00m \u001b[38;5;21;01mnp\u001b[39;00m\n\u001b[1;32m---> 11\u001b[0m \u001b[38;5;28;01mfrom\u001b[39;00m \u001b[38;5;21;01msklearn\u001b[39;00m\u001b[38;5;21;01m.\u001b[39;00m\u001b[38;5;21;01mmodel_selection\u001b[39;00m \u001b[38;5;28;01mimport\u001b[39;00m train_test_split\n\u001b[0;32m     12\u001b[0m \u001b[38;5;28;01mfrom\u001b[39;00m \u001b[38;5;21;01msklearn\u001b[39;00m\u001b[38;5;21;01m.\u001b[39;00m\u001b[38;5;21;01mneighbors\u001b[39;00m \u001b[38;5;28;01mimport\u001b[39;00m KNeighborsClassifier\n\u001b[0;32m     13\u001b[0m \u001b[38;5;28;01mfrom\u001b[39;00m \u001b[38;5;21;01msklearn\u001b[39;00m\u001b[38;5;21;01m.\u001b[39;00m\u001b[38;5;21;01mmetrics\u001b[39;00m \u001b[38;5;28;01mimport\u001b[39;00m f1_score\n",
      "\u001b[1;31mModuleNotFoundError\u001b[0m: No module named 'sklearn'"
     ]
    }
   ],
   "source": [
    "#!/usr/bin/env python\n",
    "# coding: utf-8\n",
    "\n",
    "# In[10]:\n",
    "\n",
    "\n",
    "#importing related modules and libraries\n",
    "import pandas as pd\n",
    "from matplotlib import pyplot  as plt\n",
    "import numpy as np\n",
    "from sklearn.model_selection import train_test_split\n",
    "from sklearn.neighbors import KNeighborsClassifier\n",
    "from sklearn.metrics import f1_score\n",
    "from matplotlib.colors import ListedColormap\n",
    "from sklearn.model_selection import GridSearchCV\n",
    "from sklearn.metrics import confusion_matrix\n",
    "from sklearn.metrics import classification_report\n",
    "import sklearn.model_selection as ms\n",
    "import seaborn as sns\n",
    "from mpl_toolkits.mplot3d import Axes3D\n",
    "\n",
    "\n",
    "# In[6]:\n",
    "\n",
    "\n",
    "#importing data\n",
    "data=pd.read_csv('heart.csv')\n",
    "\n",
    "#Defining input and output variables X and y\n",
    "X=data.iloc[:, 1:-1]\n",
    "y=data.iloc[:, -1]\n",
    "\n",
    "#initiating the KNN algorithm\n",
    "knn = KNeighborsClassifier()\n",
    "X_train, X_test, y_train, y_test = train_test_split(X, y, test_size=0.2)\n",
    "\n",
    "#Selecting the value of k using cross validation method\n",
    "k_neighbours = list(range(1,21,2))\n",
    "n_grid = [{'n_neighbors': k_neighbours}]\n",
    "cv_knn = GridSearchCV(estimator=knn,param_grid=n_grid,cv=ms.KFold(n_splits=10))\n",
    "cv_knn.fit(X_train, y_train)\n",
    "best_k = cv_knn.best_params_['n_neighbors']\n",
    "\n",
    "#Printing the classification report\n",
    "knn = KNeighborsClassifier(n_neighbors=best_k)\n",
    "knn.fit(X_train,y_train)\n",
    "y_pred=knn.predict(X_test)\n",
    "print('Confusion matric: \\n',confusion_matrix(y_test,y_pred),'\\n')\n",
    "print('Classification report: \\n\\n',classification_report(y_test, y_pred))\n",
    "\n",
    "\n",
    "# In[9]:\n",
    "\n",
    "\n",
    "#Data visualisation\n",
    "plt.figure()\n",
    "sns.pairplot(data.iloc[:,[0,2,3,4,7,9,-1]], hue = 'target', markers=[\"X\", \"o\"])\n",
    "plt.show()\n",
    "\n",
    "\n",
    "# In[11]:\n",
    "\n",
    "\n",
    "get_ipython().run_line_magic('matplotlib', 'notebook')\n",
    "\n",
    "fig = plt.figure(figsize=(9, 6))\n",
    "ax = fig.add_subplot( projection = '3d', )\n",
    "\n",
    "x = data['thalach']\n",
    "y = data['trestbps']\n",
    "z = data['chol']\n",
    "\n",
    "ax.set_xlabel(\"maximum heart rate achieved\")\n",
    "ax.set_ylabel(\"resting blood pressure\")\n",
    "ax.set_zlabel(\"serum cholestoral in mg/dl\")\n",
    "\n",
    "ax.scatter(x, y, z, c=data['target'], cmap=\"viridis\")\n",
    "\n",
    "plt.show()\n",
    "\n",
    "\n",
    "# In[ ]:\n",
    "\n",
    "\n",
    "\n"
   ]
  }
 ],
 "metadata": {
  "kernelspec": {
   "display_name": "Python 3.10.7 64-bit (microsoft store)",
   "language": "python",
   "name": "python3"
  },
  "language_info": {
   "codemirror_mode": {
    "name": "ipython",
    "version": 3
   },
   "file_extension": ".py",
   "mimetype": "text/x-python",
   "name": "python",
   "nbconvert_exporter": "python",
   "pygments_lexer": "ipython3",
   "version": "3.10.8"
  },
  "orig_nbformat": 4,
  "vscode": {
   "interpreter": {
    "hash": "ead26253795ffa37051da622ad05e30ac16f49928e2d1199422a4e8bd90c6c41"
   }
  }
 },
 "nbformat": 4,
 "nbformat_minor": 2
}
